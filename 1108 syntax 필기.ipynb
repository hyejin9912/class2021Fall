{
  "nbformat": 4,
  "nbformat_minor": 0,
  "metadata": {
    "kernelspec": {
      "display_name": "Python 3",
      "language": "python",
      "name": "python3"
    },
    "language_info": {
      "codemirror_mode": {
        "name": "ipython",
        "version": 3
      },
      "file_extension": ".py",
      "mimetype": "text/x-python",
      "name": "python",
      "nbconvert_exporter": "python",
      "pygments_lexer": "ipython3",
      "version": "3.7.1"
    },
    "colab": {
      "name": "syntax.ipynb",
      "provenance": [],
      "include_colab_link": true
    }
  },
  "cells": [
    {
      "cell_type": "markdown",
      "metadata": {
        "id": "view-in-github",
        "colab_type": "text"
      },
      "source": [
        "<a href=\"https://colab.research.google.com/github/hyejin9912/class2021Fall/blob/main/1108%20syntax%20%ED%95%84%EA%B8%B0.ipynb\" target=\"_parent\"><img src=\"https://colab.research.google.com/assets/colab-badge.svg\" alt=\"Open In Colab\"/></a>"
      ]
    },
    {
      "cell_type": "code",
      "metadata": {
        "id": "Fu2mzgrqSLAU",
        "outputId": "283876b5-0fc9-4961-d92d-d242b3c222de"
      },
      "source": [
        "a = [1, 2, 3, 4]\n",
        "for i in a:\n",
        "    print(i)"
      ],
      "execution_count": null,
      "outputs": [
        {
          "output_type": "stream",
          "text": [
            "1\n",
            "2\n",
            "3\n",
            "4\n"
          ],
          "name": "stdout"
        }
      ]
    },
    {
      "cell_type": "markdown",
      "source": [
        "for i in a:\n",
        "\n",
        "for 쓰고 in 쓰고 a 에는 리스트가 있어야 함. 이게 i로 받아져서 여러 번 도는 것.\n",
        "\n",
        "for 없이\n",
        "\n",
        "print(a[0])->1이 나올 것. \n",
        "\n",
        "print(a[0])\n",
        "\n",
        "print(a[1])\n",
        "\n",
        "print(a[2])\n",
        "\n",
        "print(a[3]) \n",
        "\n",
        "이러면\n",
        "1 2 3 4 찍힐 것.\n",
        "\n",
        "그런데 이게 숫자가 엄청 많으면 다 적어줄 수 없음. 근데 이게 패턴이 같다. 이럴 때 for를 쓰는 것. \n",
        "\n",
        "for    in    :\n",
        "\n",
        "  print\n",
        "\n",
        "이게 기본 개형. 이게 문법이다. 이 틀만 지키면 됨.\n",
        "\n",
        "a에 있는 것들에서 첫 번째 것부터 가장 마지막 것까지 i라는 변수에 넣어라. 이게 계속 도는 것. a 리스트 안에 있는 개수만큼 돈다.\n",
        "\n",
        "for loop라고 함. \n",
        "\n",
        "만약 \n",
        "\n",
        "print(i)\n",
        "print(i+1)이라 하면?\n",
        "\n",
        "12233445 이렇게 찍힘. \n",
        "\n",
        "인덴테이션은 for 밑에 반복되는 것들이다라는 약속임.  \n",
        "\n",
        "인덴테이션 빼면 반복이 안되고 가장 마지막 것만 나옴. 인덴테이션은 for에 한정이 되어있다는 약속이다. \n",
        "\n",
        "\n",
        "\n",
        "\n",
        "\n"
      ],
      "metadata": {
        "id": "duCV4ZSj_nAj"
      }
    },
    {
      "cell_type": "code",
      "source": [
        "#인덴테이션이 없는 경우의 예시\n",
        "a = [1,2,3,4]\n",
        "for i in a:\n",
        "    print(i)\n",
        "print(i+1)\n",
        "print('hello')\n"
      ],
      "metadata": {
        "id": "lr4SH1mxBMZ1",
        "outputId": "f5565064-d4c0-41b0-df91-0b4e5fbafc5a",
        "colab": {
          "base_uri": "https://localhost:8080/"
        }
      },
      "execution_count": 6,
      "outputs": [
        {
          "output_type": "stream",
          "name": "stdout",
          "text": [
            "1\n",
            "2\n",
            "3\n",
            "4\n",
            "5\n",
            "hello\n"
          ]
        }
      ]
    },
    {
      "cell_type": "markdown",
      "source": [
        "인덴테이션의 유무에 따른 차이. \n",
        "\n",
        "for 밑이 아닌 경우는 그냥 아래에 \n",
        "\n",
        "print ('hello') 치면 됨\n",
        "\n",
        "\n",
        "print ('hello')에도 인덴테이션 넣으면 \n",
        "\n",
        "ex) \n",
        "a = [1,2,3,4]\n",
        "\n",
        "for i in a:\n",
        "\n",
        "  print(i)\n",
        "\n",
        "  print('hello')\n",
        "  \n",
        "--> 1 hello 2 hello 3 hello 4 helllo\n",
        "\n",
        "이렇게 나옴. "
      ],
      "metadata": {
        "id": "f3TKRMGIBywG"
      }
    },
    {
      "cell_type": "code",
      "source": [
        "#a = [1, 2, 3, 4]\n",
        "for i in range(4) :\n",
        "  print(i)"
      ],
      "metadata": {
        "id": "yu6fqpfdDBhH",
        "outputId": "8ddd5702-aee1-4b86-e532-d983de5b1008",
        "colab": {
          "base_uri": "https://localhost:8080/"
        }
      },
      "execution_count": 7,
      "outputs": [
        {
          "output_type": "stream",
          "name": "stdout",
          "text": [
            "0\n",
            "1\n",
            "2\n",
            "3\n"
          ]
        }
      ]
    },
    {
      "cell_type": "markdown",
      "source": [
        "a를 이렇게도 표현할 수 있음. \n",
        "\n",
        "아까는 코드를 a에 있는 것을 처음부터 i로 받아서 반복해서 실행해라\n",
        "\n",
        "이렇게 했는데 \n",
        "\n",
        "이번에는 나는 a를 받지 않고 숫자를 만들겠다라고 해보자. \n",
        "\n",
        "# a = [1, 2, 3, 4]\n",
        "for i in range(4) :\n",
        "  print(i)\n",
        "\n",
        "그럼 여기에 range (4)를 하면 0,1,2,3이 만들어짐.\n",
        "\n",
        "인덱스의 range가 만들어짐.\n",
        "\n",
        "a 다시 살리면\n",
        "\n",
        "\n"
      ],
      "metadata": {
        "id": "i8PpGDuwCfZ-"
      }
    },
    {
      "cell_type": "code",
      "source": [
        "a = [1, 2, 3, 4]\n",
        "for i in range(4) :\n",
        "  print(a[i])"
      ],
      "metadata": {
        "id": "FdOhDUDSHTE3",
        "outputId": "bcc6315a-2ae0-43da-b95d-637ab60f15fc",
        "colab": {
          "base_uri": "https://localhost:8080/"
        }
      },
      "execution_count": 9,
      "outputs": [
        {
          "output_type": "stream",
          "name": "stdout",
          "text": [
            "1\n",
            "2\n",
            "3\n",
            "4\n"
          ]
        }
      ]
    },
    {
      "cell_type": "markdown",
      "source": [
        "range 4가 되면 0,1,2,3이 만들어짐. \n",
        "\n",
        "4번 도는 것. 0을 i에 넣고 한 번 돌고, 1을 i에 넣고 한 번 돌고 이렇게. \n",
        "\n",
        "그러면 a의 0번째: 1 이렇게 쭉쭉 나옴. \n",
        "\n",
        "range( )에 a의 길이가 4개니까 총 리스트의 길이라 4로 적음.\n",
        "\n",
        "range(3)이라 적으면 1,2,3 나오는데 \n",
        "range(5)는 없는 부분이니까 오류뜸. \n",
        "\n",
        "\n",
        "아래를 보자. "
      ],
      "metadata": {
        "id": "v1AfRNrpHa9d"
      }
    },
    {
      "cell_type": "code",
      "metadata": {
        "id": "XSJxLJVCSLAW",
        "outputId": "921b10b7-3bc8-4345-a6b2-16253a900c95"
      },
      "source": [
        "a = [1, 2, 3, 4]\n",
        "for i in range(len(a)):\n",
        "    print(a[i])"
      ],
      "execution_count": null,
      "outputs": [
        {
          "output_type": "stream",
          "text": [
            "1\n",
            "2\n",
            "3\n",
            "4\n"
          ],
          "name": "stdout"
        }
      ]
    },
    {
      "cell_type": "markdown",
      "source": [
        "len 이라는 함수를 보면 a를 넣으면 리스트의 길이를 찾아줌. \n",
        "\n",
        "그러면 len(a)가 4가 됨. "
      ],
      "metadata": {
        "id": "Tndws8F4H9LX"
      }
    },
    {
      "cell_type": "code",
      "metadata": {
        "id": "VTfxVRdgSLAW",
        "outputId": "7b430ba8-015e-4296-c883-ce2b3f9ed43b"
      },
      "source": [
        "a = ['red', 'green', 'blue', 'purple']\n",
        "for i in a:\n",
        "    print(i)"
      ],
      "execution_count": null,
      "outputs": [
        {
          "output_type": "stream",
          "text": [
            "red\n",
            "green\n",
            "blue\n",
            "purple\n"
          ],
          "name": "stdout"
        }
      ]
    },
    {
      "cell_type": "markdown",
      "source": [
        "이것도 똑같음. "
      ],
      "metadata": {
        "id": "fj7trIOvIZi_"
      }
    },
    {
      "cell_type": "code",
      "metadata": {
        "id": "Vc-7pW85SLAW",
        "outputId": "9394e177-c8c8-44db-ff28-1e9566072bb3"
      },
      "source": [
        "a = ['red', 'green', 'blue', 'purple']\n",
        "for i in range(len(a)):\n",
        "    print(a[i])"
      ],
      "execution_count": null,
      "outputs": [
        {
          "output_type": "stream",
          "text": [
            "red\n",
            "green\n",
            "blue\n",
            "purple\n"
          ],
          "name": "stdout"
        }
      ]
    },
    {
      "cell_type": "markdown",
      "source": [
        "여기 len(a)는 4가 될 것. "
      ],
      "metadata": {
        "id": "tfIRyNmcIeP8"
      }
    },
    {
      "cell_type": "code",
      "metadata": {
        "id": "dD-ephD3SLAX",
        "outputId": "69d729f8-996a-41be-d84b-f1bd2a7c809c"
      },
      "source": [
        "a = 0\n",
        "if a == 0:\n",
        "    print(a)\n",
        "else:\n",
        "    print(a+1)"
      ],
      "execution_count": null,
      "outputs": [
        {
          "output_type": "stream",
          "text": [
            "0\n"
          ],
          "name": "stdout"
        }
      ]
    },
    {
      "cell_type": "markdown",
      "source": [
        "if\n",
        "\n",
        "a=0이 들어가있음. \n",
        "여기도 마찬가지로 if 랑 else 밑에 인덴트 넣어주면 됨. \n",
        "\n",
        "if도 else도 끝에 : 넣어줘야 함\n",
        "\n",
        "if a가 0과 같으면 \n",
        "\n",
        "==(두 개 쓰면 같다는 뜻)\n",
        "\n",
        "print a를 하라. \n",
        "\n",
        "그렇지 않으면, pritn (a+1)을 하라. \n",
        "\n"
      ],
      "metadata": {
        "id": "qxui2h0RIl40"
      }
    },
    {
      "cell_type": "code",
      "metadata": {
        "id": "M0AZaDMvSLAY",
        "outputId": "b25a5fe6-defa-4549-85b0-0c146ff7a2a0"
      },
      "source": [
        "for i in range(1, 3):\n",
        "    for j in range(3, 5):\n",
        "        print(i*j)"
      ],
      "execution_count": null,
      "outputs": [
        {
          "output_type": "stream",
          "text": [
            "3\n",
            "4\n",
            "6\n",
            "8\n"
          ],
          "name": "stdout"
        }
      ]
    },
    {
      "cell_type": "markdown",
      "source": [
        "list comprehension"
      ],
      "metadata": {
        "id": "IgrP0_FSJOnp"
      }
    },
    {
      "cell_type": "code",
      "metadata": {
        "id": "ZPpZmVIHSLAY",
        "outputId": "0bbcc529-c1d8-4774-e1ad-9de8b9e065ce"
      },
      "source": [
        "for i in range(1, 3):\n",
        "    for j in range(3, 5):\n",
        "        if j >=4:\n",
        "            print(i*j)"
      ],
      "execution_count": null,
      "outputs": [
        {
          "output_type": "stream",
          "text": [
            "4\n",
            "8\n"
          ],
          "name": "stdout"
        }
      ]
    },
    {
      "cell_type": "code",
      "metadata": {
        "id": "JQXk5vi0SLAY",
        "outputId": "cd3306f3-6d6d-446e-dd4a-f7f4e11dd967"
      },
      "source": [
        "a = [1, 2, 3, 4]\n",
        "b = [i for i in a if i >=2]\n",
        "b"
      ],
      "execution_count": null,
      "outputs": [
        {
          "output_type": "execute_result",
          "data": {
            "text/plain": [
              "[2, 3, 4]"
            ]
          },
          "metadata": {
            "tags": []
          },
          "execution_count": 12
        }
      ]
    },
    {
      "cell_type": "code",
      "metadata": {
        "id": "MDmBGZ3LSLAZ",
        "outputId": "bd06f885-7334-43d9-d92d-848c615f6771"
      },
      "source": [
        "a = ['red', 'green', 'blue', 'purple']\n",
        "b = [i for i in a if len(i) >=4]\n",
        "b"
      ],
      "execution_count": null,
      "outputs": [
        {
          "output_type": "execute_result",
          "data": {
            "text/plain": [
              "['green', 'blue', 'purple']"
            ]
          },
          "metadata": {
            "tags": []
          },
          "execution_count": 13
        }
      ]
    }
  ]
}