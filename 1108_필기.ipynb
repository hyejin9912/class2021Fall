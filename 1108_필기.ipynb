{
  "nbformat": 4,
  "nbformat_minor": 0,
  "metadata": {
    "colab": {
      "name": "1108 필기.ipynb",
      "provenance": [],
      "authorship_tag": "ABX9TyMEbo3wdf+tMAFjv+5OMW6S",
      "include_colab_link": true
    },
    "kernelspec": {
      "name": "python3",
      "display_name": "Python 3"
    },
    "language_info": {
      "name": "python"
    }
  },
  "cells": [
    {
      "cell_type": "markdown",
      "metadata": {
        "id": "view-in-github",
        "colab_type": "text"
      },
      "source": [
        "<a href=\"https://colab.research.google.com/github/hyejin9912/class2021Fall/blob/main/1108_%ED%95%84%EA%B8%B0.ipynb\" target=\"_parent\"><img src=\"https://colab.research.google.com/assets/colab-badge.svg\" alt=\"Open In Colab\"/></a>"
      ]
    },
    {
      "cell_type": "markdown",
      "source": [
        "제일 처음 해 보는 코딩입니다\n",
        "모든 코딩은 세 가지로 이해하면 거의 그 것을 벗어나지 않는다.\n",
        "1. 변수 (variables), 제어문 (syntax), 함수\n",
        "어떤 언어를 배우더라도 공통적인 세 가지\n",
        "변수는 = 사인을 씀. 같다는 뜻이 아니라 오른 쪽의 값을 왼 쪽의 내가 만든 변수에 넣어줘라. 변수에 1이라는 값을 할당한다. \n",
        "\n",
        "b에는 글자 넣어줌. 변수에 글자라는 값도 넣어줄 수 있음. 다양한 변수가 있을 수 있음. \n",
        "숫자 넣어주면 숫자변수, 글자 넣어주면 글자 변수가 되는 것. \n",
        "글자 내용을 표현할 때는 ' ' 써준다.\n",
        "\n",
        "프린트도 할 수 있음\n",
        "print(a) 해서 실행해보기.\n",
        "\n",
        "숫자가 1.1 이런 소숫점도 들어감. \n",
        "a 변수랑 b 변수는 확실히 차이가 남. a 변수는 숫자, b 변수는 문자(스트링)\n",
        "\n",
        "주석을 붙이면(#를 앞에 넣어줌) 초록색으로 변함. \n",
        "\n",
        "주석: 그 부분은 실행하지 않음\n",
        "\n",
        "type (a) 프린트해보니 'int'라고 나옴. :정수\n",
        "Print (type(a))--> <class 'int'>\n",
        "\n",
        "type (c) 프린트해보면 'float' 라고 나옴.\n",
        "숫자도 구분해서 나옴. \n",
        "\n",
        "type (b) 프린트해보면 'str' 라고 나옴.\n",
        "\n",
        "\n",
        "list 해보자\n",
        "d에 여러 개를 한 번에 넣어보자. 이런 걸 list 라고 함. \n",
        "\n",
        "type (d) 프린트해보면 'list'라고 나옴. \n",
        "\n",
        "dictionary 해보자.\n",
        "e에 {} 사용해서 넣어보자\n",
        "\n",
        "type (e) 프린트하면 'dict' 나옴. \n",
        "\n",
        "\n",
        "print(b[0])->대괄호 넣고 0을 넣어보자\n",
        "\n",
        "파이썬에서는 0이 첫 번째다. 그러면 맨 첫번째인 h가 나온다. \n",
        "\n",
        "print(b[0:2])는 0번째부터 1번째까지 찍힘-제일 마지막은 안 찍힘\n",
        "\n",
        "print(d[0]) 하면 첫번째가 나옴. \n",
        "\n",
        "print(d[1][1]) b 가 나옴. \n",
        "\n",
        "e도 부분적으로 뽑으려면 \"apple\": red fruit 이 첫 번째고 \"banana\": \"yellow fruit\"이 두 번째임. 콤마로 분리됨\n",
        "\n",
        "첫 번째꺼 뽑으려면\n",
        "\n",
        "print(e[\"apple\"]) 하면 red fruit 이라는 결과 나옴\n",
        "\n",
        "print(e[0])은 오류남. 표제어에 해당하는 부분을 넣어야 함. dict typed의 특징임. \n",
        "\n",
        "1 = 4 이런 건 안됨. 에러남. \n",
        "변수는 문자같은 게 있어야 함. \n",
        "a123 이런 건 변수가 될 수 있음. "
      ],
      "metadata": {
        "id": "26eFx4FxwmFH"
      }
    },
    {
      "cell_type": "code",
      "source": [
        "a = 1\n",
        "b= 'hello'\n",
        "c = 1.1\n",
        "d = [1, 'abc', 2.1]\n",
        "e = {\"apple\": \"red fruit\", \"banana\": \"yellow fruit\"}\n",
        "\n",
        "#print(a)\n",
        "#print(b)\n",
        "\n",
        "#print (type(a))\n",
        "#print (type(c))\n",
        "#print (type(b))\n",
        "#print (type(d))\n",
        "#print (type(e))\n",
        "\n",
        "print (b[0:2])\n",
        "print (d[1][1])\n",
        "print (e[\"apple\"])\n"
      ],
      "metadata": {
        "colab": {
          "base_uri": "https://localhost:8080/"
        },
        "id": "vBIIqNFgwpJ-",
        "outputId": "db789e7b-927a-4083-b384-cc521e296a78"
      },
      "execution_count": 25,
      "outputs": [
        {
          "output_type": "stream",
          "name": "stdout",
          "text": [
            "he\n",
            "b\n",
            "red fruit\n"
          ]
        }
      ]
    }
  ]
}